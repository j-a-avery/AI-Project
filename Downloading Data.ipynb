{
 "cells": [
  {
   "cell_type": "code",
   "execution_count": 1,
   "metadata": {},
   "outputs": [],
   "source": [
    "import pandas as pd\n",
    "from PCPartPicker_API import pcpartpicker as pcpp"
   ]
  },
  {
   "cell_type": "code",
   "execution_count": 2,
   "metadata": {},
   "outputs": [],
   "source": [
    "product_types = [\n",
    "    'cpu', 'cpu-cooler', 'motherboard', 'memory',\n",
    "    'internal-hard-drive', 'video-card', 'power-supply',\n",
    "    'case'\n",
    "]"
   ]
  },
  {
   "cell_type": "markdown",
   "metadata": {},
   "source": [
    "## Download Parts Data"
   ]
  },
  {
   "cell_type": "markdown",
   "metadata": {},
   "source": [
    "### CPUs"
   ]
  },
  {
   "cell_type": "code",
   "execution_count": 3,
   "metadata": {},
   "outputs": [],
   "source": [
    "cpus_raw = pcpp.productLists.getProductList('cpu')"
   ]
  },
  {
   "cell_type": "code",
   "execution_count": 4,
   "metadata": {},
   "outputs": [
    {
     "data": {
      "text/plain": [
       "dict_keys(['name', 'speed', 'cores', 'tdp', 'ratings', 'price', 'id'])"
      ]
     },
     "execution_count": 4,
     "metadata": {},
     "output_type": "execute_result"
    }
   ],
   "source": [
    "cpus_headers = cpus_raw[0].keys()\n",
    "cpus_headers"
   ]
  },
  {
   "cell_type": "code",
   "execution_count": 5,
   "metadata": {},
   "outputs": [],
   "source": [
    "cpus_list = []\n",
    "for c in cpus_raw:\n",
    "    if type(c) is dict:\n",
    "        cpus_list.append(c.values())"
   ]
  },
  {
   "cell_type": "code",
   "execution_count": 6,
   "metadata": {},
   "outputs": [],
   "source": [
    "cpus_df = pd.DataFrame(cpus_list)"
   ]
  },
  {
   "cell_type": "code",
   "execution_count": 7,
   "metadata": {},
   "outputs": [],
   "source": [
    "cpus_df.columns = cpus_headers"
   ]
  },
  {
   "cell_type": "code",
   "execution_count": 8,
   "metadata": {},
   "outputs": [
    {
     "data": {
      "text/html": [
       "<div>\n",
       "<style scoped>\n",
       "    .dataframe tbody tr th:only-of-type {\n",
       "        vertical-align: middle;\n",
       "    }\n",
       "\n",
       "    .dataframe tbody tr th {\n",
       "        vertical-align: top;\n",
       "    }\n",
       "\n",
       "    .dataframe thead th {\n",
       "        text-align: right;\n",
       "    }\n",
       "</style>\n",
       "<table border=\"1\" class=\"dataframe\">\n",
       "  <thead>\n",
       "    <tr style=\"text-align: right;\">\n",
       "      <th></th>\n",
       "      <th>name</th>\n",
       "      <th>speed</th>\n",
       "      <th>cores</th>\n",
       "      <th>tdp</th>\n",
       "      <th>ratings</th>\n",
       "      <th>price</th>\n",
       "      <th>id</th>\n",
       "    </tr>\n",
       "  </thead>\n",
       "  <tbody>\n",
       "    <tr>\n",
       "      <th>0</th>\n",
       "      <td>AMD Ryzen 5 2600</td>\n",
       "      <td>3.4 GHz</td>\n",
       "      <td>6</td>\n",
       "      <td>65 W</td>\n",
       "      <td>178</td>\n",
       "      <td>$164.89</td>\n",
       "      <td>jLF48d</td>\n",
       "    </tr>\n",
       "    <tr>\n",
       "      <th>1</th>\n",
       "      <td>AMD Ryzen 7 2700X</td>\n",
       "      <td>3.7 GHz</td>\n",
       "      <td>8</td>\n",
       "      <td>105 W</td>\n",
       "      <td>129</td>\n",
       "      <td>$292.76</td>\n",
       "      <td>bddxFT</td>\n",
       "    </tr>\n",
       "    <tr>\n",
       "      <th>2</th>\n",
       "      <td>Intel Core i9-9900K</td>\n",
       "      <td>3.6 GHz</td>\n",
       "      <td>8</td>\n",
       "      <td>95 W</td>\n",
       "      <td>39</td>\n",
       "      <td>$479.99</td>\n",
       "      <td>jHZFf7</td>\n",
       "    </tr>\n",
       "    <tr>\n",
       "      <th>3</th>\n",
       "      <td>Intel Core i7-8700K</td>\n",
       "      <td>3.7 GHz</td>\n",
       "      <td>6</td>\n",
       "      <td>95 W</td>\n",
       "      <td>229</td>\n",
       "      <td>$365.99</td>\n",
       "      <td>sxDzK8</td>\n",
       "    </tr>\n",
       "    <tr>\n",
       "      <th>4</th>\n",
       "      <td>AMD Ryzen 5 2600X</td>\n",
       "      <td>3.6 GHz</td>\n",
       "      <td>6</td>\n",
       "      <td>95 W</td>\n",
       "      <td>70</td>\n",
       "      <td>$179.99</td>\n",
       "      <td>6mm323</td>\n",
       "    </tr>\n",
       "  </tbody>\n",
       "</table>\n",
       "</div>"
      ],
      "text/plain": [
       "                  name    speed cores    tdp ratings    price      id\n",
       "0     AMD Ryzen 5 2600  3.4 GHz     6   65 W     178  $164.89  jLF48d\n",
       "1    AMD Ryzen 7 2700X  3.7 GHz     8  105 W     129  $292.76  bddxFT\n",
       "2  Intel Core i9-9900K  3.6 GHz     8   95 W      39  $479.99  jHZFf7\n",
       "3  Intel Core i7-8700K  3.7 GHz     6   95 W     229  $365.99  sxDzK8\n",
       "4    AMD Ryzen 5 2600X  3.6 GHz     6   95 W      70  $179.99  6mm323"
      ]
     },
     "execution_count": 8,
     "metadata": {},
     "output_type": "execute_result"
    }
   ],
   "source": [
    "cpus_df.head()"
   ]
  },
  {
   "cell_type": "markdown",
   "metadata": {},
   "source": [
    "### CPU Coolers"
   ]
  },
  {
   "cell_type": "code",
   "execution_count": 9,
   "metadata": {},
   "outputs": [],
   "source": [
    "coolers = pcpp.productLists.getProductList('cpu-cooler')"
   ]
  },
  {
   "cell_type": "code",
   "execution_count": 10,
   "metadata": {},
   "outputs": [],
   "source": [
    "coolers_headers = ['name', 'fan-rpm', 'noise-level', 'ratings', 'price', 'id']\n",
    "coolers_list = []\n",
    "\n",
    "for c in coolers:\n",
    "    if type(c) is dict:\n",
    "        coolers_list.append(c.values())"
   ]
  },
  {
   "cell_type": "code",
   "execution_count": 11,
   "metadata": {},
   "outputs": [],
   "source": [
    "coolers_df = pd.DataFrame(coolers_list)"
   ]
  },
  {
   "cell_type": "code",
   "execution_count": 12,
   "metadata": {
    "scrolled": false
   },
   "outputs": [],
   "source": [
    "coolers_df.columns = coolers_headers"
   ]
  },
  {
   "cell_type": "code",
   "execution_count": 13,
   "metadata": {},
   "outputs": [
    {
     "data": {
      "text/html": [
       "<div>\n",
       "<style scoped>\n",
       "    .dataframe tbody tr th:only-of-type {\n",
       "        vertical-align: middle;\n",
       "    }\n",
       "\n",
       "    .dataframe tbody tr th {\n",
       "        vertical-align: top;\n",
       "    }\n",
       "\n",
       "    .dataframe thead th {\n",
       "        text-align: right;\n",
       "    }\n",
       "</style>\n",
       "<table border=\"1\" class=\"dataframe\">\n",
       "  <thead>\n",
       "    <tr style=\"text-align: right;\">\n",
       "      <th></th>\n",
       "      <th>name</th>\n",
       "      <th>fan-rpm</th>\n",
       "      <th>noise-level</th>\n",
       "      <th>ratings</th>\n",
       "      <th>price</th>\n",
       "      <th>id</th>\n",
       "    </tr>\n",
       "  </thead>\n",
       "  <tbody>\n",
       "    <tr>\n",
       "      <th>0</th>\n",
       "      <td>Cooler Master Hyper 212 EVO</td>\n",
       "      <td>600 - 2000 RPM</td>\n",
       "      <td>9 dB - 36 dB</td>\n",
       "      <td>1357</td>\n",
       "      <td>$24.89</td>\n",
       "      <td>hmtCmG</td>\n",
       "    </tr>\n",
       "    <tr>\n",
       "      <th>1</th>\n",
       "      <td>Corsair H100i PRO</td>\n",
       "      <td>2400 RPM</td>\n",
       "      <td>37 dB</td>\n",
       "      <td>24</td>\n",
       "      <td>$99.89</td>\n",
       "      <td>hmBTwP</td>\n",
       "    </tr>\n",
       "    <tr>\n",
       "      <th>2</th>\n",
       "      <td>Cooler Master MasterLiquid ML240L RGB</td>\n",
       "      <td>650 - 2000 RPM</td>\n",
       "      <td>6 dB - 30 dB</td>\n",
       "      <td>44</td>\n",
       "      <td>$69.89</td>\n",
       "      <td>RcdFf7</td>\n",
       "    </tr>\n",
       "    <tr>\n",
       "      <th>3</th>\n",
       "      <td>NZXT Kraken X62 Rev 2</td>\n",
       "      <td>500 - 1800 RPM</td>\n",
       "      <td>21 dB - 38 dB</td>\n",
       "      <td>98</td>\n",
       "      <td>$152.89</td>\n",
       "      <td>2RdFf7</td>\n",
       "    </tr>\n",
       "    <tr>\n",
       "      <th>4</th>\n",
       "      <td>Cooler Master Hyper 212 RGB Black Edition</td>\n",
       "      <td>650 - 2000 RPM</td>\n",
       "      <td>8 dB - 30 dB</td>\n",
       "      <td>4</td>\n",
       "      <td>$36.89</td>\n",
       "      <td>hHDJ7P</td>\n",
       "    </tr>\n",
       "  </tbody>\n",
       "</table>\n",
       "</div>"
      ],
      "text/plain": [
       "                                        name         fan-rpm    noise-level  \\\n",
       "0                Cooler Master Hyper 212 EVO  600 - 2000 RPM   9 dB - 36 dB   \n",
       "1                          Corsair H100i PRO        2400 RPM          37 dB   \n",
       "2      Cooler Master MasterLiquid ML240L RGB  650 - 2000 RPM   6 dB - 30 dB   \n",
       "3                      NZXT Kraken X62 Rev 2  500 - 1800 RPM  21 dB - 38 dB   \n",
       "4  Cooler Master Hyper 212 RGB Black Edition  650 - 2000 RPM   8 dB - 30 dB   \n",
       "\n",
       "  ratings    price      id  \n",
       "0    1357   $24.89  hmtCmG  \n",
       "1      24   $99.89  hmBTwP  \n",
       "2      44   $69.89  RcdFf7  \n",
       "3      98  $152.89  2RdFf7  \n",
       "4       4   $36.89  hHDJ7P  "
      ]
     },
     "execution_count": 13,
     "metadata": {},
     "output_type": "execute_result"
    }
   ],
   "source": [
    "coolers_df.head()"
   ]
  },
  {
   "cell_type": "code",
   "execution_count": null,
   "metadata": {},
   "outputs": [],
   "source": []
  }
 ],
 "metadata": {
  "kernelspec": {
   "display_name": "Python 3",
   "language": "python",
   "name": "python3"
  },
  "language_info": {
   "codemirror_mode": {
    "name": "ipython",
    "version": 3
   },
   "file_extension": ".py",
   "mimetype": "text/x-python",
   "name": "python",
   "nbconvert_exporter": "python",
   "pygments_lexer": "ipython3",
   "version": "3.6.7"
  }
 },
 "nbformat": 4,
 "nbformat_minor": 2
}
