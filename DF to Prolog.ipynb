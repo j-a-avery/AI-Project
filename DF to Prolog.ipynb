{
 "cells": [
  {
   "cell_type": "code",
   "execution_count": 1,
   "metadata": {},
   "outputs": [],
   "source": [
    "import pandas as pd\n",
    "import re"
   ]
  },
  {
   "cell_type": "code",
   "execution_count": 2,
   "metadata": {},
   "outputs": [],
   "source": [
    "def atom_from(var):\n",
    "    if var == True or var in [\"True\", 'true', 'Yes', 'yes']:\n",
    "        return \"true\"\n",
    "    elif var == False or var in ['False', 'false', 'No', 'no']:\n",
    "        return \"false\"\n",
    "    \n",
    "    if type(var) in [list, set, tuple]:\n",
    "        return f\"[{','.join([atom_from(x) for x in var])}]\"\n",
    "    \n",
    "    try:\n",
    "        var = str(int(var))\n",
    "    except ValueError:\n",
    "        try:\n",
    "            var = str(float(var))\n",
    "        except ValueError:\n",
    "            var = f'\"{var}\"'\n",
    "    return var"
   ]
  },
  {
   "cell_type": "code",
   "execution_count": 3,
   "metadata": {},
   "outputs": [],
   "source": [
    "def fact_from(series, factname, columns=None):\n",
    "    if columns is None:\n",
    "        columns = list(series.index.array)\n",
    "        \n",
    "    data = [atom_from(series[col]) for col in columns]\n",
    "    attributes = ','.join(data)\n",
    "    fact = f\"{factname}({attributes}).\"\n",
    "\n",
    "    \n",
    "    return fact"
   ]
  },
  {
   "cell_type": "code",
   "execution_count": 4,
   "metadata": {},
   "outputs": [],
   "source": [
    "def dataframe_to_prolog(df, factname, columns=None):\n",
    "    \"\"\"\n",
    "        Returns a list of Prolog facts extracted from a Pandas dataframe\n",
    "    \"\"\"\n",
    "    \n",
    "    if columns is None:\n",
    "        columns = df.columns\n",
    "    \n",
    "    facts = df.apply(lambda x: fact_from(x, factname, columns), axis=1)\n",
    "    \n",
    "    return facts.values.tolist()"
   ]
  },
  {
   "cell_type": "code",
   "execution_count": 5,
   "metadata": {},
   "outputs": [],
   "source": [
    "def prolog_file_from(df, factname, filename=None, columns=None):\n",
    "    \"\"\"\n",
    "        Converts a Pandas dataframe to a .prolog file\n",
    "    \"\"\"\n",
    "    \n",
    "    if filename is None:\n",
    "        filename = f\"{factname}.pl\"\n",
    "    \n",
    "    facts = dataframe_to_prolog(df, factname, columns)\n",
    "    \n",
    "    with open(filename, 'w') as f:\n",
    "        for fact in facts:\n",
    "            f.write(fact+'\\n')"
   ]
  },
  {
   "cell_type": "markdown",
   "metadata": {},
   "source": [
    "# One final clean-up, and write files of Prolog facts"
   ]
  },
  {
   "cell_type": "markdown",
   "metadata": {},
   "source": [
    "### CPUs"
   ]
  },
  {
   "cell_type": "code",
   "execution_count": 6,
   "metadata": {
    "scrolled": true
   },
   "outputs": [],
   "source": [
    "cpus = pd.read_csv('cpu.csv')"
   ]
  },
  {
   "cell_type": "code",
   "execution_count": 7,
   "metadata": {},
   "outputs": [],
   "source": [
    "cpus = cpus[[\n",
    "    'Manufacturer', 'Model', 'Data Width', 'Cores',\n",
    "    'Socket', 'Operating Frequency', 'Turbo Frequency', \n",
    "    \"Simultaneous Multithreading\",\n",
    "    'Integrated Graphics', 'Includes CPU Cooler', \n",
    "    \"L1 Cache\", \"L2 Cache\", \"L3 Cache\", \n",
    "    \"Lithography\", \"Thermal Design Power\",\n",
    "    \"Part Number\"]]\n",
    "cpus = cpus[cpus.Model.notnull()]"
   ]
  },
  {
   "cell_type": "code",
   "execution_count": 8,
   "metadata": {},
   "outputs": [],
   "source": [
    "prolog_file_from(cpus, 'cpu')"
   ]
  },
  {
   "cell_type": "markdown",
   "metadata": {},
   "source": [
    "### Cases"
   ]
  },
  {
   "cell_type": "code",
   "execution_count": 9,
   "metadata": {},
   "outputs": [],
   "source": [
    "cases = pd.read_csv('case.csv')"
   ]
  },
  {
   "cell_type": "code",
   "execution_count": 10,
   "metadata": {},
   "outputs": [],
   "source": [
    "cases = cases[[\n",
    "    'Color', 'Type', 'Motherboard Compatibility', \n",
    "    'Manufacturer', 'Includes Power Supply',\n",
    "    'External 3.5\" Bays', 'External 5.25\" Bays',\n",
    "    'External 5.25\" Slim Bays',\n",
    "    'External 5.25\" Slim Slot Load Bays',\n",
    "    'Internal 2.5\" Bays',\n",
    "    'Internal 3.5\" Bays',\n",
    "    'Internal 5.25\" Bays',\n",
    "    'Front Panel USB 3.0 Ports', \n",
    "    'Part Number'\n",
    "]]"
   ]
  },
  {
   "cell_type": "code",
   "execution_count": 11,
   "metadata": {},
   "outputs": [],
   "source": [
    "cases['External 3.5\" Bays'] = cases['External 3.5\" Bays'].fillna(0)\n",
    "cases['External 5.25\" Bays'] = cases['External 5.25\" Bays'].fillna(0)\n",
    "cases['External 5.25\" Slim Bays'] = cases['External 5.25\" Slim Bays'].fillna(0)\n",
    "cases[\n",
    "        'External 5.25\" Slim Slot Load Bays'\n",
    "        ] = cases['External 5.25\" Slim Slot Load Bays'].fillna(0)\n",
    "cases['Internal 2.5\" Bays'] = cases['Internal 2.5\" Bays'].fillna(0)\n",
    "cases['Internal 3.5\" Bays'] = cases['Internal 3.5\" Bays'].fillna(0)\n",
    "cases['Internal 5.25\" Bays'] = cases['Internal 5.25\" Bays'].fillna(0)"
   ]
  },
  {
   "cell_type": "code",
   "execution_count": 12,
   "metadata": {},
   "outputs": [],
   "source": [
    "cases['Motherboard Compatibility'] = cases['Motherboard Compatibility'].apply(\n",
    "    lambda x: [s.strip() for s in x.split(',')]\n",
    ")\n",
    "\n",
    "cases['Color'] = cases['Color'].apply(\n",
    "    lambda x: str(x).split(' / ')\n",
    ")"
   ]
  },
  {
   "cell_type": "code",
   "execution_count": 13,
   "metadata": {
    "scrolled": false
   },
   "outputs": [],
   "source": [
    "prolog_file_from(cases, 'case')"
   ]
  },
  {
   "cell_type": "markdown",
   "metadata": {},
   "source": [
    "### CPU Coolers"
   ]
  },
  {
   "cell_type": "code",
   "execution_count": 14,
   "metadata": {},
   "outputs": [],
   "source": [
    "cpu_coolers = pd.read_csv('cpu-cooler.csv')"
   ]
  },
  {
   "cell_type": "code",
   "execution_count": 15,
   "metadata": {},
   "outputs": [],
   "source": [
    "cpu_coolers['Bearing Type'].fillna(\"Unspecified\", inplace=True)\n",
    "cpu_coolers['Color'].fillna(\"Unspecified\", inplace=True)\n",
    "cpu_coolers['Model'].fillna(cpu_coolers['Part Number'], inplace=True)\n",
    "cpu_coolers['Radiator Size'].fillna(\"N/A\", inplace=True)"
   ]
  },
  {
   "cell_type": "code",
   "execution_count": 16,
   "metadata": {},
   "outputs": [],
   "source": [
    "cpu_coolers['Supported Sockets'] = cpu_coolers['Supported Sockets'].apply(\n",
    "    lambda sockets: [s.strip() for s in sockets.split(',')]\n",
    ")"
   ]
  },
  {
   "cell_type": "code",
   "execution_count": 17,
   "metadata": {},
   "outputs": [],
   "source": [
    "cpu_coolers = cpu_coolers[cpu_coolers['Fan RPM'].notna()]\n",
    "cpu_coolers = cpu_coolers[cpu_coolers['Noise Level'].notna()]"
   ]
  },
  {
   "cell_type": "code",
   "execution_count": 18,
   "metadata": {},
   "outputs": [],
   "source": [
    "def dbsplit(dbs: str):\n",
    "    dbs = dbs.split('-')\n",
    "    dbs = [int(re.search(r\"\\d+\", x).group(0)) for x in dbs]\n",
    "    \n",
    "    if len(dbs) == 1:\n",
    "        dbs = [dbs[0], dbs[0]]\n",
    "    \n",
    "    return dbs"
   ]
  },
  {
   "cell_type": "code",
   "execution_count": 19,
   "metadata": {},
   "outputs": [],
   "source": [
    "cpu_coolers[\"Min Noise Level\"] = cpu_coolers['Noise Level'].apply(\n",
    "    lambda x: dbsplit(x)[0]\n",
    ")\n",
    "cpu_coolers[\"Max Noise Level\"] = cpu_coolers['Noise Level'].apply(\n",
    "    lambda x: dbsplit(x)[1]\n",
    ")"
   ]
  },
  {
   "cell_type": "code",
   "execution_count": 20,
   "metadata": {},
   "outputs": [],
   "source": [
    "def rpmsplit(rpms: str):\n",
    "    rpms = [x for x in rpms.split(' ') if x.isdigit()]\n",
    "    \n",
    "    if len(rpms) == 1:\n",
    "        rpms.append(rpms[0])\n",
    "    \n",
    "    return rpms"
   ]
  },
  {
   "cell_type": "code",
   "execution_count": 21,
   "metadata": {},
   "outputs": [],
   "source": [
    "cpu_coolers['Min Fan RPM'] = cpu_coolers['Fan RPM'].apply(\n",
    "    lambda x: rpmsplit(x)[0])\n",
    "cpu_coolers['Max Fan RPM'] = cpu_coolers['Fan RPM'].apply(\n",
    "    lambda x: rpmsplit(x)[1])"
   ]
  },
  {
   "cell_type": "code",
   "execution_count": 22,
   "metadata": {},
   "outputs": [],
   "source": [
    "cpu_coolers = cpu_coolers[[\n",
    "    'Manufacturer', 'Model', 'Supported Sockets',\n",
    "    'Bearing Type',\n",
    "    'Min Fan RPM', 'Max Fan RPM',\n",
    "    'Min Noise Level', 'Max Noise Level',\n",
    "    'Liquid Cooled', 'Radiator Size', 'Part Number'\n",
    "]]"
   ]
  },
  {
   "cell_type": "code",
   "execution_count": 23,
   "metadata": {},
   "outputs": [],
   "source": [
    "prolog_file_from(cpu_coolers, 'cpu_cooler')"
   ]
  },
  {
   "cell_type": "markdown",
   "metadata": {},
   "source": [
    "### Internal Hard Drives"
   ]
  },
  {
   "cell_type": "code",
   "execution_count": 24,
   "metadata": {},
   "outputs": [],
   "source": [
    "hard_drives = pd.read_csv('internal-hard-drive.csv')"
   ]
  },
  {
   "cell_type": "code",
   "execution_count": 25,
   "metadata": {},
   "outputs": [],
   "source": [
    "hard_drives = hard_drives[[\n",
    "    'Manufacturer', 'Capacity', 'Interface', 'Form Factor',\n",
    "    'RPM', 'NAND Flash Type', 'Cache', 'Hybrid SSD Cache', \n",
    "    'GB/$1.00', 'Price/GB', \n",
    "    'Part Number'\n",
    "]]"
   ]
  },
  {
   "cell_type": "code",
   "execution_count": 26,
   "metadata": {},
   "outputs": [],
   "source": [
    "def tb_to_gb(tb):\n",
    "    cap = tb.split(' ')\n",
    "    \n",
    "    if len(cap) != 2:\n",
    "        return int(cap[0])\n",
    "    \n",
    "    cap, uom = tuple(cap)\n",
    "    if uom == 'TB':\n",
    "        cap = float(cap)\n",
    "        cap = int(cap * 1024)\n",
    "    \n",
    "    return cap"
   ]
  },
  {
   "cell_type": "code",
   "execution_count": 27,
   "metadata": {},
   "outputs": [],
   "source": [
    "hard_drives['Capacity'] = hard_drives['Capacity'].apply(tb_to_gb)"
   ]
  },
  {
   "cell_type": "code",
   "execution_count": 28,
   "metadata": {},
   "outputs": [],
   "source": [
    "def fix_inches(x):\n",
    "    return re.sub(r\"\\\"\", \" in\", x)"
   ]
  },
  {
   "cell_type": "code",
   "execution_count": 29,
   "metadata": {},
   "outputs": [],
   "source": [
    "hard_drives['Form Factor'] = hard_drives['Form Factor'].apply(fix_inches)"
   ]
  },
  {
   "cell_type": "code",
   "execution_count": 30,
   "metadata": {},
   "outputs": [],
   "source": [
    "prolog_file_from(hard_drives, 'internal_hard_drive')"
   ]
  },
  {
   "cell_type": "markdown",
   "metadata": {},
   "source": [
    "### Memory"
   ]
  },
  {
   "cell_type": "code",
   "execution_count": 31,
   "metadata": {},
   "outputs": [],
   "source": [
    "memory = pd.read_csv('memory.csv')"
   ]
  },
  {
   "cell_type": "code",
   "execution_count": 32,
   "metadata": {
    "scrolled": false
   },
   "outputs": [],
   "source": [
    "def memory_speed_split(mem):\n",
    "    mem = mem.split('-')\n",
    "    ddr = mem[0]\n",
    "    speed = mem[1]\n",
    "    return ddr, speed"
   ]
  },
  {
   "cell_type": "code",
   "execution_count": 33,
   "metadata": {},
   "outputs": [],
   "source": [
    "memory['DDR'] = memory['Speed'].apply(lambda m: memory_speed_split(m)[0])"
   ]
  },
  {
   "cell_type": "code",
   "execution_count": 34,
   "metadata": {},
   "outputs": [],
   "source": [
    "memory['Speed'] = memory['Speed'].apply(lambda m: memory_speed_split(m)[1])"
   ]
  },
  {
   "cell_type": "code",
   "execution_count": 35,
   "metadata": {},
   "outputs": [],
   "source": [
    "memory['Number of Dimms'] = memory['Size'].apply(\n",
    "    lambda m: int(str(m).split('(')[1].split('x')[0].strip()))"
   ]
  },
  {
   "cell_type": "code",
   "execution_count": 36,
   "metadata": {},
   "outputs": [],
   "source": [
    "memory['Size'] = memory['Size'].apply(\n",
    "    lambda m: [m for m in m.split(' ') if m.isdigit()][0])"
   ]
  },
  {
   "cell_type": "code",
   "execution_count": 37,
   "metadata": {},
   "outputs": [],
   "source": [
    "memory = memory[[\n",
    "    'Manufacturer', 'DDR', 'Speed', 'Size', 'Number of Dimms',\n",
    "    'CAS Latency', 'ECC', 'Heat Spreader', 'Registered',\n",
    "    'Timing', 'Voltage', 'Type', 'Price/GB', 'Part Number'\n",
    "]]"
   ]
  },
  {
   "cell_type": "code",
   "execution_count": 38,
   "metadata": {},
   "outputs": [],
   "source": [
    "prolog_file_from(memory, 'memory')"
   ]
  },
  {
   "cell_type": "markdown",
   "metadata": {},
   "source": [
    "### Motherboards"
   ]
  },
  {
   "cell_type": "code",
   "execution_count": 39,
   "metadata": {},
   "outputs": [],
   "source": [
    "motherboards = pd.read_csv('motherboard.csv')"
   ]
  },
  {
   "cell_type": "code",
   "execution_count": 40,
   "metadata": {},
   "outputs": [],
   "source": [
    "motherboards.fillna(0, inplace=True)"
   ]
  },
  {
   "cell_type": "code",
   "execution_count": 41,
   "metadata": {},
   "outputs": [],
   "source": [
    "motherboards['Maximum Supported Memory'] = motherboards['Maximum Supported Memory'].apply(\n",
    "    lambda m: int(str(m).split(' ')[0]))"
   ]
  },
  {
   "cell_type": "code",
   "execution_count": 42,
   "metadata": {},
   "outputs": [],
   "source": [
    "motherboards.drop('Model', axis=1, inplace=True)"
   ]
  },
  {
   "cell_type": "code",
   "execution_count": 43,
   "metadata": {},
   "outputs": [],
   "source": [
    "motherboards = motherboards[[\n",
    "    'Manufacturer', \n",
    "]]"
   ]
  },
  {
   "cell_type": "code",
   "execution_count": 44,
   "metadata": {},
   "outputs": [
    {
     "data": {
      "text/plain": [
       "Index(['Manufacturer'], dtype='object')"
      ]
     },
     "execution_count": 44,
     "metadata": {},
     "output_type": "execute_result"
    }
   ],
   "source": [
    "motherboards.columns"
   ]
  },
  {
   "cell_type": "code",
   "execution_count": 45,
   "metadata": {},
   "outputs": [],
   "source": [
    "prolog_file_from(motherboards, 'motherboard')"
   ]
  },
  {
   "cell_type": "markdown",
   "metadata": {},
   "source": [
    "### Power Supplies"
   ]
  },
  {
   "cell_type": "code",
   "execution_count": 46,
   "metadata": {},
   "outputs": [],
   "source": [
    "psus = pd.read_csv('power-supply.csv')"
   ]
  },
  {
   "cell_type": "code",
   "execution_count": 47,
   "metadata": {},
   "outputs": [],
   "source": [
    "psus = psus[[\n",
    "    'Wattage', 'Efficiency', 'Efficiency Certification',\n",
    "    'Modular', 'Manufacturer', 'Fanless', 'Output',\n",
    "    'Type', 'Color', 'PCI-Express 6+2-Pin Connectors',\n",
    "    'PCI-Express 6-Pin Connectors', 'PCI-Express 8-Pin Connectors',\n",
    "    'Part Number'\n",
    "]]"
   ]
  },
  {
   "cell_type": "code",
   "execution_count": 48,
   "metadata": {},
   "outputs": [],
   "source": [
    "psus.Output.fillna(\"\", inplace=True)\n",
    "psus.Output = psus.Output.apply(\n",
    "    lambda x: \"Not Specified\" if x=='' else [s.strip() for s in str(x).split(',')]\n",
    ")"
   ]
  },
  {
   "cell_type": "code",
   "execution_count": 49,
   "metadata": {},
   "outputs": [],
   "source": [
    "psus.Fanless.fillna('False', inplace=True)\n",
    "psus.Color.fillna('N/A', inplace=True)\n",
    "psus.Efficiency.fillna('Not Rated', inplace=True)\n",
    "psus['Efficiency Certification'].fillna('N/A', inplace=True)\n",
    "psus['PCI-Express 6+2-Pin Connectors'].fillna(0, inplace=True)\n",
    "psus['PCI-Express 6-Pin Connectors'].fillna(0, inplace=True)\n",
    "psus['PCI-Express 8-Pin Connectors'].fillna(0, inplace=True)\n",
    "psus.Wattage = psus.Wattage.apply(\n",
    "    lambda w: int(str(w).split(' ')[0]))"
   ]
  },
  {
   "cell_type": "code",
   "execution_count": 50,
   "metadata": {},
   "outputs": [],
   "source": [
    "psus['PCI-Express 6+2-Pin Connectors'] = psus['PCI-Express 6+2-Pin Connectors'].apply(\n",
    "    lambda x: int(x))\n",
    "psus['PCI-Express 6-Pin Connectors'] = psus['PCI-Express 6-Pin Connectors'].apply(\n",
    "    lambda x: int(x))\n",
    "psus['PCI-Express 8-Pin Connectors'] = psus['PCI-Express 8-Pin Connectors'].apply(\n",
    "    lambda x: int(x))"
   ]
  },
  {
   "cell_type": "code",
   "execution_count": 51,
   "metadata": {},
   "outputs": [],
   "source": [
    "prolog_file_from(psus, 'power_supply')"
   ]
  },
  {
   "cell_type": "markdown",
   "metadata": {},
   "source": [
    "### Video Cards"
   ]
  },
  {
   "cell_type": "code",
   "execution_count": 52,
   "metadata": {},
   "outputs": [],
   "source": [
    "gpus = pd.read_csv('video-card.csv')"
   ]
  },
  {
   "cell_type": "code",
   "execution_count": 53,
   "metadata": {},
   "outputs": [],
   "source": [
    "gpus['Core Clock'].fillna('Not Specified', inplace=True)\n",
    "gpus['Boost Clock'].fillna('Not Specified', inplace=True)\n",
    "gpus['Color'].fillna('Not Specified', inplace=True)\n",
    "gpus.Length.fillna('Not Specified', inplace=True)\n",
    "gpus['Supports Freesync'].fillna(False, inplace=True)\n",
    "gpus['Supports G-Sync'].fillna(False, inplace=True)\n",
    "gpus.VGA.fillna(0, inplace=True)\n",
    "gpus.VHDCI.fillna(0, inplace=True)\n",
    "gpus['DVI-D Dual-Link'].fillna(0, inplace=True)\n",
    "gpus['DVI-D Single-Link'].fillna(0, inplace=True)\n",
    "gpus['DVI-I Dual-Link'].fillna(0, inplace=True)\n",
    "gpus['S-Video'].fillna(0, inplace=True)\n",
    "gpus.HDMI.fillna(0, inplace=True)\n",
    "gpus['Mini-HDMI'].fillna(0, inplace=True)\n",
    "gpus.DisplayPort.fillna(0, inplace=True)\n",
    "gpus['Mini-Display Port'].fillna(0, inplace=True)\n",
    "gpus.VirtualLink.fillna(False, inplace=True)"
   ]
  },
  {
   "cell_type": "code",
   "execution_count": 54,
   "metadata": {},
   "outputs": [],
   "source": [
    "gpus.Length = gpus.Length.apply(fix_inches)"
   ]
  },
  {
   "cell_type": "code",
   "execution_count": 56,
   "metadata": {},
   "outputs": [],
   "source": [
    "gpus = gpus[[\n",
    "    'Chipset', 'Manufacturer', 'Memory Size', 'Memory Type',  \n",
    "    'Core Clock', 'Boost Clock', 'Interface', 'Color', \n",
    "    'Length', 'Fan', 'TDP',     \n",
    "    'Supports Freesync', 'Supports G-Sync', \n",
    "    'CrossFire Support', 'SLI Support',  \n",
    "    'VGA', 'VHDCI',\n",
    "    'DVI-D Dual-Link', 'DVI-D Single-Link', 'DVI-I Dual-Link',\n",
    "    'S-Video', 'HDMI', 'Mini-HDMI',\n",
    "    'DisplayPort', 'Mini-Display Port',\n",
    "    'VirtualLink',\n",
    "    'Part Number',\n",
    "]]"
   ]
  },
  {
   "cell_type": "code",
   "execution_count": 57,
   "metadata": {},
   "outputs": [],
   "source": [
    "prolog_file_from(gpus, 'video_card')"
   ]
  }
 ],
 "metadata": {
  "kernelspec": {
   "display_name": "Python 3",
   "language": "python",
   "name": "python3"
  },
  "language_info": {
   "codemirror_mode": {
    "name": "ipython",
    "version": 3
   },
   "file_extension": ".py",
   "mimetype": "text/x-python",
   "name": "python",
   "nbconvert_exporter": "python",
   "pygments_lexer": "ipython3",
   "version": "3.7.3"
  }
 },
 "nbformat": 4,
 "nbformat_minor": 2
}
